{
 "cells": [
  {
   "cell_type": "markdown",
   "metadata": {},
   "source": [
    "**Question:**\n",
    "\n",
    "Patients's medical ecords are not well maintained by hospital staff. During restructuring of the data, you have to create a namedtuple named 'Patient' that will contain all the available data of a patient in order as fed to the system."
   ]
  },
  {
   "cell_type": "code",
   "execution_count": 3,
   "metadata": {},
   "outputs": [],
   "source": [
    "from collections import namedtuple,OrderedDict"
   ]
  },
  {
   "cell_type": "code",
   "execution_count": 18,
   "metadata": {},
   "outputs": [],
   "source": [
    "def do(*tuples):   #*args. This function can take any number of tuples as arguments\n",
    "\n",
    "    list_od = list(OrderedDict())  # is a list of ordered dict\n",
    "    od = OrderedDict()\n",
    "    \n",
    "    for tup in tuples:\n",
    "        list_od.append(tup._asdict())\n",
    "    print(list_od)\n",
    "    \n",
    "    for each_dict in list_od:\n",
    "        for k,v in each_dict.items():\n",
    "            od[k] = v\n",
    "            \n",
    "    patient = namedtuple('Patient', od.keys()) creating namedtuple\n",
    "    \n",
    "    #p = patient(*od.values())  # creating namedtuple instance with values\n",
    "    \n",
    "    return patient(**od)    # convert dict to namedtuple"
   ]
  },
  {
   "cell_type": "code",
   "execution_count": 19,
   "metadata": {
    "scrolled": true
   },
   "outputs": [
    {
     "name": "stdout",
     "output_type": "stream",
     "text": [
      "[OrderedDict([('red', 55), ('green', 155), ('blue', 255)]), OrderedDict([('pink', 4), ('yellow', 6)])]\n",
      "Patient(red=55, green=155, blue=255, pink=4, yellow=6)\n"
     ]
    }
   ],
   "source": [
    "color = namedtuple('Color',['red','green','blue'])\n",
    "hue = namedtuple('Hue',['pink','yellow'])\n",
    "c = color(red = 55,green = 155,blue = 255)\n",
    "t = hue(pink=4,yellow=6)\n",
    "p = do(c,t)\n",
    "print(p)"
   ]
  }
 ],
 "metadata": {
  "kernelspec": {
   "display_name": "Python 3",
   "language": "python",
   "name": "python3"
  },
  "language_info": {
   "codemirror_mode": {
    "name": "ipython",
    "version": 3
   },
   "file_extension": ".py",
   "mimetype": "text/x-python",
   "name": "python",
   "nbconvert_exporter": "python",
   "pygments_lexer": "ipython3",
   "version": "3.7.0"
  }
 },
 "nbformat": 4,
 "nbformat_minor": 2
}
