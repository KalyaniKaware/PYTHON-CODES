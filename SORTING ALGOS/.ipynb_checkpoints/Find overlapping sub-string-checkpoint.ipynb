{
 "cells": [
  {
   "cell_type": "code",
   "execution_count": 1,
   "metadata": {},
   "outputs": [
    {
     "name": "stdout",
     "output_type": "stream",
     "text": [
      "6\n"
     ]
    }
   ],
   "source": [
    "def overlap( string:str, substring:str) -> int:\n",
    "    count = 0\n",
    "    start_pos = 0\n",
    "    while (start_pos <= len(string)):\n",
    "        flag = string.find(substring,start_pos)\n",
    "        if flag == -1:\n",
    "            break\n",
    "        else:\n",
    "            count += 1\n",
    "            start_pos = flag+1\n",
    "    return count\n",
    "    \n",
    "count = overlap('kkkkkkk','kk')\n",
    "print(count)"
   ]
  },
  {
   "cell_type": "code",
   "execution_count": null,
   "metadata": {},
   "outputs": [],
   "source": []
  }
 ],
 "metadata": {
  "kernelspec": {
   "display_name": "Python 3",
   "language": "python",
   "name": "python3"
  },
  "language_info": {
   "codemirror_mode": {
    "name": "ipython",
    "version": 3
   },
   "file_extension": ".py",
   "mimetype": "text/x-python",
   "name": "python",
   "nbconvert_exporter": "python",
   "pygments_lexer": "ipython3",
   "version": "3.7.0"
  }
 },
 "nbformat": 4,
 "nbformat_minor": 2
}
