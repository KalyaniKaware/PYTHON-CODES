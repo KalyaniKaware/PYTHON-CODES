{
 "cells": [
  {
   "cell_type": "markdown",
   "metadata": {},
   "source": [
    "**Question:**\n",
    "\n",
    "Patients's medical ecords are not well maintained by hospital staff. During restructuring of the data, you have to create a namedtuple named 'Patient' that will contain all the available data of a patient in order as fed to the system."
   ]
  },
  {
   "cell_type": "code",
   "execution_count": 3,
   "metadata": {},
   "outputs": [],
   "source": [
    "from collections import namedtuple,OrderedDict"
   ]
  },
  {
   "cell_type": "code",
   "execution_count": 7,
   "metadata": {},
   "outputs": [],
   "source": [
    "def do(*things):\n",
    "\n",
    "    d = list(OrderedDict())\n",
    "    od = OrderedDict()\n",
    "    \n",
    "    for item in things:\n",
    "        d.append(item._asdict())\n",
    "    for each_dict in d:\n",
    "        for k,v in each_dict.items():\n",
    "            od[k] = v\n",
    "    patient = namedtuple('Patient', od.keys())\n",
    "    p = patient(*od.values())\n",
    "    return p"
   ]
  },
  {
   "cell_type": "code",
   "execution_count": 10,
   "metadata": {
    "scrolled": true
   },
   "outputs": [
    {
     "name": "stdout",
     "output_type": "stream",
     "text": [
      "Patient(pink=4, yellow=6, red=55, green=155, blue=255)\n"
     ]
    }
   ],
   "source": [
    "color = namedtuple('Color',['red','green','blue'])\n",
    "hue = namedtuple('Hue',['pink','yellow'])\n",
    "c = color(red = 55,green = 155,blue = 255)\n",
    "t = hue(pink=4,yellow=6)\n",
    "p = do(t,c)\n",
    "print(p)"
   ]
  }
 ],
 "metadata": {
  "kernelspec": {
   "display_name": "Python 3",
   "language": "python",
   "name": "python3"
  },
  "language_info": {
   "codemirror_mode": {
    "name": "ipython",
    "version": 3
   },
   "file_extension": ".py",
   "mimetype": "text/x-python",
   "name": "python",
   "nbconvert_exporter": "python",
   "pygments_lexer": "ipython3",
   "version": "3.7.0"
  }
 },
 "nbformat": 4,
 "nbformat_minor": 2
}
