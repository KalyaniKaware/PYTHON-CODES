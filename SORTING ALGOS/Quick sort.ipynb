{
 "cells": [
  {
   "cell_type": "code",
   "execution_count": 14,
   "metadata": {},
   "outputs": [],
   "source": [
    "def partition(nums, low, high):\n",
    "    pivot = nums[(low + high) // 2]\n",
    "    i = low - 1\n",
    "    j = high + 1\n",
    "    while True:\n",
    "        i += 1\n",
    "        while nums[i] < pivot:\n",
    "            i += 1\n",
    "\n",
    "        j -= 1\n",
    "        while nums[j] > pivot:\n",
    "            j -= 1\n",
    "\n",
    "        if i >= j:\n",
    "            return j\n",
    "\n",
    "        # If an element at i (on the left of the pivot) is larger than the\n",
    "        # element at j (on right right of the pivot), then swap them\n",
    "        nums[i], nums[j] = nums[j], nums[i]\n",
    "\n",
    "def _quick_sort(items, low, high):\n",
    "    if low < high:\n",
    "        split_index = partition(items, low, high)\n",
    "        _quick_sort(items, low, split_index)\n",
    "        _quick_sort(items, split_index + 1, high)\n",
    "\n",
    "def quick_sort(nums):\n",
    "    _quick_sort(nums, 0, len(nums) - 1)"
   ]
  },
  {
   "cell_type": "code",
   "execution_count": 16,
   "metadata": {},
   "outputs": [
    {
     "name": "stdout",
     "output_type": "stream",
     "text": [
      "[1, 2, 2, 3, 3, 4, 4, 5, 5, 6, 6, 7, 7, 8, 8, 9, 9]\n"
     ]
    }
   ],
   "source": [
    "random_list_of_nums = [9,8,7,6,5,4,3,2,1,2,3,4,5,6,7,8,9]\n",
    "quick_sort(random_list_of_nums)\n",
    "print(random_list_of_nums)"
   ]
  }
 ],
 "metadata": {
  "kernelspec": {
   "display_name": "Python 3",
   "language": "python",
   "name": "python3"
  },
  "language_info": {
   "codemirror_mode": {
    "name": "ipython",
    "version": 3
   },
   "file_extension": ".py",
   "mimetype": "text/x-python",
   "name": "python",
   "nbconvert_exporter": "python",
   "pygments_lexer": "ipython3",
   "version": "3.7.0"
  }
 },
 "nbformat": 4,
 "nbformat_minor": 2
}
