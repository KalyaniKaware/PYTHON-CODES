{
 "cells": [
  {
   "cell_type": "code",
   "execution_count": 2,
   "metadata": {},
   "outputs": [
    {
     "name": "stdout",
     "output_type": "stream",
     "text": [
      "The original string is : Geeks\n",
      "All substrings of string are : ['G', 'Ge', 'Gee', 'Geek', 'e', 'ee', 'eek', 'e', 'ek', 'k']\n"
     ]
    }
   ],
   "source": [
    "test_str = \"Geeks\"\n",
    "  \n",
    "# printing original string  \n",
    "print(\"The original string is : \" + str(test_str)) \n",
    "  \n",
    "# Get all substrings of string \n",
    "# Using list comprehension + string slicing \n",
    "res = [test_str[i: j] for i in range(len(test_str)) \n",
    "          for j in range(i + 1, len(test_str))] \n",
    "  \n",
    "# printing result  \n",
    "print(\"All substrings of string are : \" + str(res)) "
   ]
  },
  {
   "cell_type": "code",
   "execution_count": 3,
   "metadata": {},
   "outputs": [
    {
     "name": "stdout",
     "output_type": "stream",
     "text": [
      "The original string is : Geeks\n",
      "All substrings of string are : ['G', 'Ge', 'Gee', 'Geek', 'Geeks', 'e', 'ee', 'eek', 'eeks', 'e', 'ek', 'eks', 'k', 'ks', 's']\n"
     ]
    }
   ],
   "source": [
    "test_str = \"Geeks\"\n",
    "  \n",
    "# printing original string  \n",
    "print(\"The original string is : \" + str(test_str)) \n",
    "  \n",
    "# Get all substrings of string \n",
    "# Using list comprehension + string slicing \n",
    "res = [test_str[i: j] for i in range(len(test_str)) \n",
    "          for j in range(i + 1, len(test_str)+1)] \n",
    "  \n",
    "# printing result  \n",
    "print(\"All substrings of string are : \" + str(res)) "
   ]
  },
  {
   "cell_type": "code",
   "execution_count": 36,
   "metadata": {},
   "outputs": [
    {
     "data": {
      "text/plain": [
       "'s'"
      ]
     },
     "execution_count": 36,
     "metadata": {},
     "output_type": "execute_result"
    }
   ],
   "source": [
    "st = 'Geeks'\n",
    "st[4:5]"
   ]
  },
  {
   "cell_type": "code",
   "execution_count": 34,
   "metadata": {},
   "outputs": [
    {
     "name": "stdout",
     "output_type": "stream",
     "text": [
      "G\n",
      "Ge\n",
      "Gee\n",
      "Geek\n",
      "e\n",
      "ee\n",
      "eek\n",
      "e\n",
      "ek\n",
      "k\n"
     ]
    }
   ],
   "source": [
    "for i in range(0,5):\n",
    "    for j in range(i+1,5):\n",
    "        print(st[i:j])"
   ]
  }
 ],
 "metadata": {
  "kernelspec": {
   "display_name": "Python 3",
   "language": "python",
   "name": "python3"
  },
  "language_info": {
   "codemirror_mode": {
    "name": "ipython",
    "version": 3
   },
   "file_extension": ".py",
   "mimetype": "text/x-python",
   "name": "python",
   "nbconvert_exporter": "python",
   "pygments_lexer": "ipython3",
   "version": "3.7.0"
  }
 },
 "nbformat": 4,
 "nbformat_minor": 2
}
