{
 "cells": [
  {
   "cell_type": "markdown",
   "metadata": {},
   "source": [
    "**Merge Sort**\n",
    "This divide and conquer algorithm splits a list in half, and keeps splitting the list by 2 until it only has singular elements.\n",
    "Adjacent elements become sorted pairs, then sorted pairs are merged and sorted with other pairs as well. This process continues until we get a sorted list with all the elements of the unsorted input list.\n",
    "\n",
    "**Explanation**\n",
    "We recursively split the list in half until we have lists with size one. We then merge each half that was split, sorting them in the process.\n",
    "\n",
    "Sorting is done by comparing the smallest elements of each half. The first element of each list are the first to be compared. If the first half begins with a smaller value, then we add that to the sorted list. We then compare the second smallest value of the first half with the first smallest value of the second half.\n",
    "\n",
    "Every time we select the smaller value at the beginning of a half, we move the index of which item needs to be compared by one."
   ]
  },
  {
   "cell_type": "code",
   "execution_count": 2,
   "metadata": {},
   "outputs": [],
   "source": [
    "nums = [9,8,7,6,5,4,3,2,1,2,3,4,5,6,7,8,9]"
   ]
  },
  {
   "cell_type": "code",
   "execution_count": 3,
   "metadata": {},
   "outputs": [],
   "source": [
    "def merge(left_list,right_list):\n",
    "    ll_index = rl_index = 0            #left list index = right list index\n",
    "    merge_list = []\n",
    "    left_list_length, right_list_length = len(left_list), len(right_list)\n",
    "    for _ in range(left_list_length + right_list_length):\n",
    "        if ll_index < left_list_length  and rl_index < right_list_length:\n",
    "            if left_list[ll_index] < right_list[rl_index]:\n",
    "                merge_list.append(left_list[ll_index])\n",
    "                ll_index += 1\n",
    "            else:\n",
    "                merge_list.append(right_list[rl_index])\n",
    "                rl_index += 1\n",
    "        elif ll_index == left_list_length:\n",
    "            merge_list.append(right_list[rl_index])\n",
    "            rl_index +=1\n",
    "        elif rl_index == right_list_length:\n",
    "            merge_list.append(left_list[ll_index])\n",
    "            ll_index += 1\n",
    "    return merge_list\n",
    "\n",
    "def merge_sort(nums):\n",
    "    if len(nums) <= 1:\n",
    "        return nums\n",
    "    mid = len(nums)//2\n",
    "    left_list = merge_sort(nums[:mid])\n",
    "    right_list = merge_sort(nums[mid:])\n",
    "    return(merge(left_list,right_list))"
   ]
  },
  {
   "cell_type": "code",
   "execution_count": 4,
   "metadata": {},
   "outputs": [],
   "source": [
    "final_list = merge_sort(nums)"
   ]
  },
  {
   "cell_type": "code",
   "execution_count": 5,
   "metadata": {},
   "outputs": [
    {
     "data": {
      "text/plain": [
       "[1, 2, 2, 3, 3, 4, 4, 5, 5, 6, 6, 7, 7, 8, 8, 9, 9]"
      ]
     },
     "execution_count": 5,
     "metadata": {},
     "output_type": "execute_result"
    }
   ],
   "source": [
    "final_list"
   ]
  },
  {
   "cell_type": "markdown",
   "metadata": {},
   "source": [
    "Note that the merge_sort() function, unlike the previous sorting algorithms, returns a new list that is sorted, rather than sorting the existing list.\n",
    "\n",
    "Therefore, Merge Sort requires space to create a new list of the same size as the input list.\n",
    "\n",
    "**Time Complexity**\n",
    "Let's first look at the merge function. It takes two lists, and iterates n times, where n is the size of their combined input. The merge_sort function splits its given array in 2, and recursively sorts the sub-arrays. As the input being recursed is half of what was given, like binary trees this makes the time it takes to process grow logarithmically to n.\n",
    "\n",
    "Therefore the overall time complexity of the Merge Sort algorithm is O(nlog(n))."
   ]
  }
 ],
 "metadata": {
  "kernelspec": {
   "display_name": "Python 3",
   "language": "python",
   "name": "python3"
  },
  "language_info": {
   "codemirror_mode": {
    "name": "ipython",
    "version": 3
   },
   "file_extension": ".py",
   "mimetype": "text/x-python",
   "name": "python",
   "nbconvert_exporter": "python",
   "pygments_lexer": "ipython3",
   "version": "3.7.0"
  }
 },
 "nbformat": 4,
 "nbformat_minor": 2
}
