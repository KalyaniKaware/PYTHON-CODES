{
 "cells": [
  {
   "cell_type": "markdown",
   "metadata": {},
   "source": [
    "**Distant Barcodes**\n",
    "\n",
    "In a warehouse, there is a row of barcodes, where the i-th barcode is barcodes[i].\n",
    "\n",
    "Rearrange the barcodes so that no two adjacent barcodes are equal.  You may return any answer, and it is guaranteed an answer exists.\n",
    "\n",
    " \n",
    "\n",
    "Example 1:\n",
    "\n",
    "Input: [1,1,1,2,2,2]\n",
    "Output: [2,1,2,1,2,1]\n",
    "\n",
    "\n",
    "Example 2:\n",
    "\n",
    "Input: [1,1,1,1,2,2,3,3]\n",
    "Output: [1,3,1,3,2,1,2,1]\n",
    " \n",
    "\n",
    "Note:\n",
    "\n",
    "1 <= barcodes.length <= 10000\n",
    "\n",
    "1 <= barcodes[i] <= 10000\n",
    " "
   ]
  },
  {
   "cell_type": "code",
   "execution_count": null,
   "metadata": {},
   "outputs": [],
   "source": [
    "class Solution:\n",
    "    def rearrangeBarcodes(self, barcodes: List[int]) -> List[int]:\n",
    "        d={}\n",
    "        n=len(barcodes)\n",
    "        for b in barcodes:\n",
    "            d[b] = d.get(b,0) + 1\n",
    "        bfl = [(b,f) for (b,f) in d.items()]        # barcode freq list\n",
    "        indices = list(range (0,n,2)) + list (range (1,n,2))  # even indices followed by od \n",
    "        i = 0\n",
    "        while bfl:\n",
    "            b,f = bfl.pop(0)\n",
    "            for _ in range(f):\n",
    "                barcodes[indices[i]] = b\n",
    "                i +=1\n",
    "        return barcodes"
   ]
  }
 ],
 "metadata": {
  "kernelspec": {
   "display_name": "Python 3",
   "language": "python",
   "name": "python3"
  },
  "language_info": {
   "codemirror_mode": {
    "name": "ipython",
    "version": 3
   },
   "file_extension": ".py",
   "mimetype": "text/x-python",
   "name": "python",
   "nbconvert_exporter": "python",
   "pygments_lexer": "ipython3",
   "version": "3.7.0"
  }
 },
 "nbformat": 4,
 "nbformat_minor": 2
}
